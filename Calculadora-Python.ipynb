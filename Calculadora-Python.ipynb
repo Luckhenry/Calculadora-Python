{
 "cells": [
  {
   "cell_type": "code",
   "execution_count": 18,
   "id": "d0817dab",
   "metadata": {},
   "outputs": [
    {
     "name": "stdout",
     "output_type": "stream",
     "text": [
      "\n",
      "******************* Calculadora em Python ******************* \n",
      "\n",
      "Selecione o número  da operação desejada: \n",
      "\n",
      "1 - Soma\n",
      "2 - Subtração\n",
      "3 - Multiplicação\n",
      "4 - Divisão \n",
      "\n",
      "\n",
      "Digite sua opção (1/2/3/4): 4\n",
      "\n",
      "\n",
      "\n",
      "Digite o primeiro numero: 10\n",
      "\n",
      "Digite o segundo numero: 5\n",
      "\n",
      "\n",
      "10 / 5 = 2.0\n",
      "\n",
      "\n"
     ]
    }
   ],
   "source": [
    "print(\"\\n******************* Calculadora em Python ******************* \\n\")\n",
    "\n",
    "def add(x,y):\n",
    "    return x + y\n",
    "\n",
    "def subtract(x,y):\n",
    "    return x - y\n",
    "\n",
    "def multiply (x,y):\n",
    "    return x * y\n",
    "\n",
    "def divide(x,y):\n",
    "    return x/y\n",
    "\n",
    "print(\"Selecione o número  da operação desejada: \\n\")\n",
    "print(\"1 - Soma\")\n",
    "print(\"2 - Subtração\")\n",
    "print(\"3 - Multiplicação\")\n",
    "print(\"4 - Divisão \\n\")\n",
    "\n",
    "opcao = input(\"\\nDigite sua opção (1/2/3/4): \")\n",
    "print('\\n')\n",
    "\n",
    "num1 = int(input(\"\\nDigite o primeiro numero: \"))\n",
    "num2 = int(input(\"\\nDigite o segundo numero: \"))\n",
    "\n",
    "if opcao == '1':\n",
    "    print('\\n')\n",
    "    print(num1, \"+\", num2, \"=\", add(num1, num2))\n",
    "    print('\\n')\n",
    "    \n",
    "elif opcao == '2':\n",
    "    print('\\n')\n",
    "    print(num1, \"-\", num2, \"=\", subtract(num1, num2))\n",
    "    print('\\n')\n",
    "    \n",
    "elif opcao == '3':\n",
    "    print('\\n')\n",
    "    print(num1, \"*\", num2, \"=\", multiply(num1, num2))\n",
    "    print('\\n')\n",
    "    \n",
    "elif opcao == '4':\n",
    "    print('\\n')\n",
    "    print(num1, \"/\", num2, \"=\", divide(num1, num2))\n",
    "    print('\\n')\n",
    "else:\n",
    "    print(\"Opcão inválida!\")"
   ]
  },
  {
   "cell_type": "code",
   "execution_count": null,
   "id": "8dabbd93",
   "metadata": {},
   "outputs": [],
   "source": []
  }
 ],
 "metadata": {
  "kernelspec": {
   "display_name": "Python 3 (ipykernel)",
   "language": "python",
   "name": "python3"
  },
  "language_info": {
   "codemirror_mode": {
    "name": "ipython",
    "version": 3
   },
   "file_extension": ".py",
   "mimetype": "text/x-python",
   "name": "python",
   "nbconvert_exporter": "python",
   "pygments_lexer": "ipython3",
   "version": "3.9.13"
  }
 },
 "nbformat": 4,
 "nbformat_minor": 5
}
